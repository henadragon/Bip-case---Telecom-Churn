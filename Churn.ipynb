{
 "cells": [
  {
   "cell_type": "markdown",
   "id": "fb185867-e68a-435a-bbe9-87106f8eeaa9",
   "metadata": {},
   "source": [
    "# Telecom Churn - Identificação de perfil e sugestão de melhorias"
   ]
  },
  {
   "cell_type": "markdown",
   "id": "b9def3c3-6d2a-4ae9-a7ab-77e6a0db90ec",
   "metadata": {},
   "source": [
    "Este projeto tem como objetivo a análise dos dados presentes em https://www.kaggle.com/blastchar/telco-customer-churn. Iremos estudar o perfil dos clientes que tem maior probabilidade de evasão e estruturar insights de melhorias dos serviços ofertados pela empresa de Telecomunicações a fim de aumentar sua taxa de retenção de cliente.\n",
    "\n",
    "As analises realizadas neste projeto serão exploratórias e a ferramenta a ser utilizada será o Python 3."
   ]
  },
  {
   "cell_type": "code",
   "execution_count": 1,
   "id": "9aa08748",
   "metadata": {},
   "outputs": [],
   "source": [
    "# Importando bibliotecas de interesse\n",
    "\n",
    "import pandas as pd\n",
    "import numpy as np\n",
    "import seaborn as sns\n",
    "import matplotlib.pyplot as plt\n",
    "%matplotlib inline"
   ]
  },
  {
   "cell_type": "code",
   "execution_count": 2,
   "id": "e1bf2fb7",
   "metadata": {},
   "outputs": [],
   "source": [
    "# Leitura do csv a ser analisado\n",
    "dfi = pd.read_csv(r'C:\\Users\\hensa\\Python files\\WA_Fn-UseC_-Telco-Customer-Churn.csv')"
   ]
  },
  {
   "cell_type": "code",
   "execution_count": 3,
   "id": "1ffe8646",
   "metadata": {},
   "outputs": [
    {
     "data": {
      "text/html": [
       "<div>\n",
       "<style scoped>\n",
       "    .dataframe tbody tr th:only-of-type {\n",
       "        vertical-align: middle;\n",
       "    }\n",
       "\n",
       "    .dataframe tbody tr th {\n",
       "        vertical-align: top;\n",
       "    }\n",
       "\n",
       "    .dataframe thead th {\n",
       "        text-align: right;\n",
       "    }\n",
       "</style>\n",
       "<table border=\"1\" class=\"dataframe\">\n",
       "  <thead>\n",
       "    <tr style=\"text-align: right;\">\n",
       "      <th></th>\n",
       "      <th>customerID</th>\n",
       "      <th>gender</th>\n",
       "      <th>SeniorCitizen</th>\n",
       "      <th>Partner</th>\n",
       "      <th>Dependents</th>\n",
       "      <th>tenure</th>\n",
       "      <th>PhoneService</th>\n",
       "      <th>MultipleLines</th>\n",
       "      <th>InternetService</th>\n",
       "      <th>OnlineSecurity</th>\n",
       "      <th>...</th>\n",
       "      <th>DeviceProtection</th>\n",
       "      <th>TechSupport</th>\n",
       "      <th>StreamingTV</th>\n",
       "      <th>StreamingMovies</th>\n",
       "      <th>Contract</th>\n",
       "      <th>PaperlessBilling</th>\n",
       "      <th>PaymentMethod</th>\n",
       "      <th>MonthlyCharges</th>\n",
       "      <th>TotalCharges</th>\n",
       "      <th>Churn</th>\n",
       "    </tr>\n",
       "  </thead>\n",
       "  <tbody>\n",
       "    <tr>\n",
       "      <th>0</th>\n",
       "      <td>7590-VHVEG</td>\n",
       "      <td>Female</td>\n",
       "      <td>0</td>\n",
       "      <td>Yes</td>\n",
       "      <td>No</td>\n",
       "      <td>1</td>\n",
       "      <td>No</td>\n",
       "      <td>No phone service</td>\n",
       "      <td>DSL</td>\n",
       "      <td>No</td>\n",
       "      <td>...</td>\n",
       "      <td>No</td>\n",
       "      <td>No</td>\n",
       "      <td>No</td>\n",
       "      <td>No</td>\n",
       "      <td>Month-to-month</td>\n",
       "      <td>Yes</td>\n",
       "      <td>Electronic check</td>\n",
       "      <td>29.85</td>\n",
       "      <td>29.85</td>\n",
       "      <td>No</td>\n",
       "    </tr>\n",
       "    <tr>\n",
       "      <th>1</th>\n",
       "      <td>5575-GNVDE</td>\n",
       "      <td>Male</td>\n",
       "      <td>0</td>\n",
       "      <td>No</td>\n",
       "      <td>No</td>\n",
       "      <td>34</td>\n",
       "      <td>Yes</td>\n",
       "      <td>No</td>\n",
       "      <td>DSL</td>\n",
       "      <td>Yes</td>\n",
       "      <td>...</td>\n",
       "      <td>Yes</td>\n",
       "      <td>No</td>\n",
       "      <td>No</td>\n",
       "      <td>No</td>\n",
       "      <td>One year</td>\n",
       "      <td>No</td>\n",
       "      <td>Mailed check</td>\n",
       "      <td>56.95</td>\n",
       "      <td>1889.5</td>\n",
       "      <td>No</td>\n",
       "    </tr>\n",
       "    <tr>\n",
       "      <th>2</th>\n",
       "      <td>3668-QPYBK</td>\n",
       "      <td>Male</td>\n",
       "      <td>0</td>\n",
       "      <td>No</td>\n",
       "      <td>No</td>\n",
       "      <td>2</td>\n",
       "      <td>Yes</td>\n",
       "      <td>No</td>\n",
       "      <td>DSL</td>\n",
       "      <td>Yes</td>\n",
       "      <td>...</td>\n",
       "      <td>No</td>\n",
       "      <td>No</td>\n",
       "      <td>No</td>\n",
       "      <td>No</td>\n",
       "      <td>Month-to-month</td>\n",
       "      <td>Yes</td>\n",
       "      <td>Mailed check</td>\n",
       "      <td>53.85</td>\n",
       "      <td>108.15</td>\n",
       "      <td>Yes</td>\n",
       "    </tr>\n",
       "    <tr>\n",
       "      <th>3</th>\n",
       "      <td>7795-CFOCW</td>\n",
       "      <td>Male</td>\n",
       "      <td>0</td>\n",
       "      <td>No</td>\n",
       "      <td>No</td>\n",
       "      <td>45</td>\n",
       "      <td>No</td>\n",
       "      <td>No phone service</td>\n",
       "      <td>DSL</td>\n",
       "      <td>Yes</td>\n",
       "      <td>...</td>\n",
       "      <td>Yes</td>\n",
       "      <td>Yes</td>\n",
       "      <td>No</td>\n",
       "      <td>No</td>\n",
       "      <td>One year</td>\n",
       "      <td>No</td>\n",
       "      <td>Bank transfer (automatic)</td>\n",
       "      <td>42.30</td>\n",
       "      <td>1840.75</td>\n",
       "      <td>No</td>\n",
       "    </tr>\n",
       "    <tr>\n",
       "      <th>4</th>\n",
       "      <td>9237-HQITU</td>\n",
       "      <td>Female</td>\n",
       "      <td>0</td>\n",
       "      <td>No</td>\n",
       "      <td>No</td>\n",
       "      <td>2</td>\n",
       "      <td>Yes</td>\n",
       "      <td>No</td>\n",
       "      <td>Fiber optic</td>\n",
       "      <td>No</td>\n",
       "      <td>...</td>\n",
       "      <td>No</td>\n",
       "      <td>No</td>\n",
       "      <td>No</td>\n",
       "      <td>No</td>\n",
       "      <td>Month-to-month</td>\n",
       "      <td>Yes</td>\n",
       "      <td>Electronic check</td>\n",
       "      <td>70.70</td>\n",
       "      <td>151.65</td>\n",
       "      <td>Yes</td>\n",
       "    </tr>\n",
       "  </tbody>\n",
       "</table>\n",
       "<p>5 rows × 21 columns</p>\n",
       "</div>"
      ],
      "text/plain": [
       "   customerID  gender  SeniorCitizen Partner Dependents  tenure PhoneService  \\\n",
       "0  7590-VHVEG  Female              0     Yes         No       1           No   \n",
       "1  5575-GNVDE    Male              0      No         No      34          Yes   \n",
       "2  3668-QPYBK    Male              0      No         No       2          Yes   \n",
       "3  7795-CFOCW    Male              0      No         No      45           No   \n",
       "4  9237-HQITU  Female              0      No         No       2          Yes   \n",
       "\n",
       "      MultipleLines InternetService OnlineSecurity  ... DeviceProtection  \\\n",
       "0  No phone service             DSL             No  ...               No   \n",
       "1                No             DSL            Yes  ...              Yes   \n",
       "2                No             DSL            Yes  ...               No   \n",
       "3  No phone service             DSL            Yes  ...              Yes   \n",
       "4                No     Fiber optic             No  ...               No   \n",
       "\n",
       "  TechSupport StreamingTV StreamingMovies        Contract PaperlessBilling  \\\n",
       "0          No          No              No  Month-to-month              Yes   \n",
       "1          No          No              No        One year               No   \n",
       "2          No          No              No  Month-to-month              Yes   \n",
       "3         Yes          No              No        One year               No   \n",
       "4          No          No              No  Month-to-month              Yes   \n",
       "\n",
       "               PaymentMethod MonthlyCharges  TotalCharges Churn  \n",
       "0           Electronic check          29.85         29.85    No  \n",
       "1               Mailed check          56.95        1889.5    No  \n",
       "2               Mailed check          53.85        108.15   Yes  \n",
       "3  Bank transfer (automatic)          42.30       1840.75    No  \n",
       "4           Electronic check          70.70        151.65   Yes  \n",
       "\n",
       "[5 rows x 21 columns]"
      ]
     },
     "execution_count": 3,
     "metadata": {},
     "output_type": "execute_result"
    }
   ],
   "source": [
    "# Vizualização da tabela para compreensão dos dados presentes\n",
    "dfi.head()"
   ]
  },
  {
   "cell_type": "code",
   "execution_count": 4,
   "id": "c24d6f6d",
   "metadata": {},
   "outputs": [
    {
     "name": "stdout",
     "output_type": "stream",
     "text": [
      "<class 'pandas.core.frame.DataFrame'>\n",
      "RangeIndex: 7043 entries, 0 to 7042\n",
      "Data columns (total 21 columns):\n",
      " #   Column            Non-Null Count  Dtype  \n",
      "---  ------            --------------  -----  \n",
      " 0   customerID        7043 non-null   object \n",
      " 1   gender            7043 non-null   object \n",
      " 2   SeniorCitizen     7043 non-null   int64  \n",
      " 3   Partner           7043 non-null   object \n",
      " 4   Dependents        7043 non-null   object \n",
      " 5   tenure            7043 non-null   int64  \n",
      " 6   PhoneService      7043 non-null   object \n",
      " 7   MultipleLines     7043 non-null   object \n",
      " 8   InternetService   7043 non-null   object \n",
      " 9   OnlineSecurity    7043 non-null   object \n",
      " 10  OnlineBackup      7043 non-null   object \n",
      " 11  DeviceProtection  7043 non-null   object \n",
      " 12  TechSupport       7043 non-null   object \n",
      " 13  StreamingTV       7043 non-null   object \n",
      " 14  StreamingMovies   7043 non-null   object \n",
      " 15  Contract          7043 non-null   object \n",
      " 16  PaperlessBilling  7043 non-null   object \n",
      " 17  PaymentMethod     7043 non-null   object \n",
      " 18  MonthlyCharges    7043 non-null   float64\n",
      " 19  TotalCharges      7043 non-null   object \n",
      " 20  Churn             7043 non-null   object \n",
      "dtypes: float64(1), int64(2), object(18)\n",
      "memory usage: 1.1+ MB\n"
     ]
    }
   ],
   "source": [
    "# Verificação do tipo de dado em cada coluna (e se algo precisa ser ajustado)\n",
    "dfi.info()"
   ]
  },
  {
   "cell_type": "code",
   "execution_count": 26,
   "id": "7981e141",
   "metadata": {},
   "outputs": [
    {
     "name": "stdout",
     "output_type": "stream",
     "text": [
      "<class 'pandas.core.frame.DataFrame'>\n",
      "RangeIndex: 7032 entries, 0 to 7031\n",
      "Data columns (total 1 columns):\n",
      " #   Column        Non-Null Count  Dtype  \n",
      "---  ------        --------------  -----  \n",
      " 0   TotalCharges  7032 non-null   float64\n",
      "dtypes: float64(1)\n",
      "memory usage: 55.1 KB\n"
     ]
    }
   ],
   "source": [
    "# 'TotalCharges' é um valor de cobrança numérica e deveria ser do tipo float, precisamos corrigir isto\n",
    "\n",
    "dfi['TotalCharges'] = pd.to_numeric(dfi['TotalCharges'], errors=\"coerce\")\n",
    "dfi[['TotalCharges']].info()"
   ]
  },
  {
   "cell_type": "code",
   "execution_count": 6,
   "id": "7ef2fae8",
   "metadata": {},
   "outputs": [
    {
     "data": {
      "text/plain": [
       "customerID           0\n",
       "gender               0\n",
       "SeniorCitizen        0\n",
       "Partner              0\n",
       "Dependents           0\n",
       "tenure               0\n",
       "PhoneService         0\n",
       "MultipleLines        0\n",
       "InternetService      0\n",
       "OnlineSecurity       0\n",
       "OnlineBackup         0\n",
       "DeviceProtection     0\n",
       "TechSupport          0\n",
       "StreamingTV          0\n",
       "StreamingMovies      0\n",
       "Contract             0\n",
       "PaperlessBilling     0\n",
       "PaymentMethod        0\n",
       "MonthlyCharges       0\n",
       "TotalCharges        11\n",
       "Churn                0\n",
       "dtype: int64"
      ]
     },
     "execution_count": 6,
     "metadata": {},
     "output_type": "execute_result"
    }
   ],
   "source": [
    "# Agora verificamos se há valores nulos na tabela\n",
    "\n",
    "dfi.isnull().sum()"
   ]
  },
  {
   "cell_type": "code",
   "execution_count": 7,
   "id": "8311a3de",
   "metadata": {},
   "outputs": [
    {
     "name": "stdout",
     "output_type": "stream",
     "text": [
      "<class 'pandas.core.frame.DataFrame'>\n",
      "RangeIndex: 7032 entries, 0 to 7031\n",
      "Data columns (total 21 columns):\n",
      " #   Column            Non-Null Count  Dtype  \n",
      "---  ------            --------------  -----  \n",
      " 0   customerID        7032 non-null   object \n",
      " 1   gender            7032 non-null   object \n",
      " 2   SeniorCitizen     7032 non-null   int64  \n",
      " 3   Partner           7032 non-null   object \n",
      " 4   Dependents        7032 non-null   object \n",
      " 5   tenure            7032 non-null   int64  \n",
      " 6   PhoneService      7032 non-null   object \n",
      " 7   MultipleLines     7032 non-null   object \n",
      " 8   InternetService   7032 non-null   object \n",
      " 9   OnlineSecurity    7032 non-null   object \n",
      " 10  OnlineBackup      7032 non-null   object \n",
      " 11  DeviceProtection  7032 non-null   object \n",
      " 12  TechSupport       7032 non-null   object \n",
      " 13  StreamingTV       7032 non-null   object \n",
      " 14  StreamingMovies   7032 non-null   object \n",
      " 15  Contract          7032 non-null   object \n",
      " 16  PaperlessBilling  7032 non-null   object \n",
      " 17  PaymentMethod     7032 non-null   object \n",
      " 18  MonthlyCharges    7032 non-null   float64\n",
      " 19  TotalCharges      7032 non-null   float64\n",
      " 20  Churn             7032 non-null   object \n",
      "dtypes: float64(2), int64(2), object(17)\n",
      "memory usage: 1.1+ MB\n"
     ]
    }
   ],
   "source": [
    "# Como há pouca informação nula, vamos exclui-lá da tabela (sem perder significânica estatística)\n",
    " \n",
    "dfi.drop(dfi[dfi['TotalCharges'].isnull()].index, inplace=True)\n",
    "dfi.reset_index(drop=True, inplace=True)\n",
    "dfi.info()"
   ]
  },
  {
   "cell_type": "code",
   "execution_count": 8,
   "id": "978fbb69",
   "metadata": {
    "scrolled": true,
    "tags": []
   },
   "outputs": [
    {
     "name": "stdout",
     "output_type": "stream",
     "text": [
      "customerID\n",
      "7427-AUFPY    1\n",
      "1163-VIPRI    1\n",
      "8338-QIUNR    1\n",
      "3027-YNWZU    1\n",
      "8215-NGSPE    1\n",
      "             ..\n",
      "0019-GFNTW    1\n",
      "7251-LJBQN    1\n",
      "0430-IHCDJ    1\n",
      "2229-DPMBI    1\n",
      "8627-ZYGSZ    1\n",
      "Name: customerID, Length: 7032, dtype: int64\n",
      ".......\n",
      ".......\n",
      "gender\n",
      "Male      3549\n",
      "Female    3483\n",
      "Name: gender, dtype: int64\n",
      ".......\n",
      ".......\n",
      "SeniorCitizen\n",
      "0    5890\n",
      "1    1142\n",
      "Name: SeniorCitizen, dtype: int64\n",
      ".......\n",
      ".......\n",
      "Partner\n",
      "No     3639\n",
      "Yes    3393\n",
      "Name: Partner, dtype: int64\n",
      ".......\n",
      ".......\n",
      "Dependents\n",
      "No     4933\n",
      "Yes    2099\n",
      "Name: Dependents, dtype: int64\n",
      ".......\n",
      ".......\n",
      "tenure\n",
      "1     613\n",
      "72    362\n",
      "2     238\n",
      "3     200\n",
      "4     176\n",
      "     ... \n",
      "38     59\n",
      "28     57\n",
      "39     56\n",
      "44     51\n",
      "36     50\n",
      "Name: tenure, Length: 72, dtype: int64\n",
      ".......\n",
      ".......\n",
      "PhoneService\n",
      "Yes    6352\n",
      "No      680\n",
      "Name: PhoneService, dtype: int64\n",
      ".......\n",
      ".......\n",
      "MultipleLines\n",
      "No                  3385\n",
      "Yes                 2967\n",
      "No phone service     680\n",
      "Name: MultipleLines, dtype: int64\n",
      ".......\n",
      ".......\n",
      "InternetService\n",
      "Fiber optic    3096\n",
      "DSL            2416\n",
      "No             1520\n",
      "Name: InternetService, dtype: int64\n",
      ".......\n",
      ".......\n",
      "OnlineSecurity\n",
      "No                     3497\n",
      "Yes                    2015\n",
      "No internet service    1520\n",
      "Name: OnlineSecurity, dtype: int64\n",
      ".......\n",
      ".......\n",
      "OnlineBackup\n",
      "No                     3087\n",
      "Yes                    2425\n",
      "No internet service    1520\n",
      "Name: OnlineBackup, dtype: int64\n",
      ".......\n",
      ".......\n",
      "DeviceProtection\n",
      "No                     3094\n",
      "Yes                    2418\n",
      "No internet service    1520\n",
      "Name: DeviceProtection, dtype: int64\n",
      ".......\n",
      ".......\n",
      "TechSupport\n",
      "No                     3472\n",
      "Yes                    2040\n",
      "No internet service    1520\n",
      "Name: TechSupport, dtype: int64\n",
      ".......\n",
      ".......\n",
      "StreamingTV\n",
      "No                     2809\n",
      "Yes                    2703\n",
      "No internet service    1520\n",
      "Name: StreamingTV, dtype: int64\n",
      ".......\n",
      ".......\n",
      "StreamingMovies\n",
      "No                     2781\n",
      "Yes                    2731\n",
      "No internet service    1520\n",
      "Name: StreamingMovies, dtype: int64\n",
      ".......\n",
      ".......\n",
      "Contract\n",
      "Month-to-month    3875\n",
      "Two year          1685\n",
      "One year          1472\n",
      "Name: Contract, dtype: int64\n",
      ".......\n",
      ".......\n",
      "PaperlessBilling\n",
      "Yes    4168\n",
      "No     2864\n",
      "Name: PaperlessBilling, dtype: int64\n",
      ".......\n",
      ".......\n",
      "PaymentMethod\n",
      "Electronic check             2365\n",
      "Mailed check                 1604\n",
      "Bank transfer (automatic)    1542\n",
      "Credit card (automatic)      1521\n",
      "Name: PaymentMethod, dtype: int64\n",
      ".......\n",
      ".......\n",
      "MonthlyCharges\n",
      "20.05    61\n",
      "19.90    44\n",
      "19.95    44\n",
      "19.85    44\n",
      "19.65    43\n",
      "         ..\n",
      "39.95     1\n",
      "18.55     1\n",
      "39.55     1\n",
      "18.75     1\n",
      "97.25     1\n",
      "Name: MonthlyCharges, Length: 1584, dtype: int64\n",
      ".......\n",
      ".......\n",
      "TotalCharges\n",
      "20.20      11\n",
      "19.75       9\n",
      "20.05       8\n",
      "19.65       8\n",
      "19.90       8\n",
      "           ..\n",
      "6424.70     1\n",
      "1474.35     1\n",
      "6668.35     1\n",
      "6096.90     1\n",
      "5867.00     1\n",
      "Name: TotalCharges, Length: 6530, dtype: int64\n",
      ".......\n",
      ".......\n",
      "Churn\n",
      "No     5163\n",
      "Yes    1869\n",
      "Name: Churn, dtype: int64\n",
      ".......\n",
      ".......\n"
     ]
    }
   ],
   "source": [
    "# Com os dados limpos, vamos dar uma olhada em cada categoria e contar seus valores\n",
    "\n",
    "for j in dfi:\n",
    "    print(j)\n",
    "    print(dfi[j].value_counts())\n",
    "    print(\".......\")\n",
    "    print(\".......\")"
   ]
  },
  {
   "cell_type": "markdown",
   "id": "75cdcd80",
   "metadata": {},
   "source": [
    "Aqui já verificamos nossas primeiras informações importantes:\n",
    "    \n",
    "    1. Maior parcela da população não é idosa (83,86%);\n",
    "    2. Maioria não possui dependentes (70,15%);\n",
    "    3. Praticamente todos possuem serviço de telefone (90,33%);\n",
    "    4. Maioria possui serviço de internet (78,39%);\n",
    "    5. Praticamente a mesma quantidade de pessoas possui Segurança online, Backup online, Proteção de dispositivo e Suporte técnico, porém ainda há mais pessoas que não possuem estes serviços;\n",
    "    6. O número de pessoas com Streming de TV e Filmes também é similar;\n",
    "    7. Maioria dos clientes (59,27%) preferem cobranças sem papel;\n",
    "    8. O método de pagamento mais utilizado é o cheque eletrônico (33,6%), enquanto os outros 3 métodos possuem número igual de usuários (~22,18%);\n",
    "    9. De maneira global, a taxa de evasão é de 26,58%. "
   ]
  },
  {
   "cell_type": "code",
   "execution_count": 9,
   "id": "fce365bf",
   "metadata": {},
   "outputs": [
    {
     "data": {
      "text/html": [
       "<div>\n",
       "<style scoped>\n",
       "    .dataframe tbody tr th:only-of-type {\n",
       "        vertical-align: middle;\n",
       "    }\n",
       "\n",
       "    .dataframe tbody tr th {\n",
       "        vertical-align: top;\n",
       "    }\n",
       "\n",
       "    .dataframe thead th {\n",
       "        text-align: right;\n",
       "    }\n",
       "</style>\n",
       "<table border=\"1\" class=\"dataframe\">\n",
       "  <thead>\n",
       "    <tr style=\"text-align: right;\">\n",
       "      <th></th>\n",
       "      <th>gender</th>\n",
       "      <th>SeniorCitizen</th>\n",
       "      <th>Partner</th>\n",
       "      <th>Dependents</th>\n",
       "      <th>tenure</th>\n",
       "      <th>PhoneService</th>\n",
       "      <th>MultipleLines</th>\n",
       "      <th>InternetService</th>\n",
       "      <th>OnlineSecurity</th>\n",
       "      <th>OnlineBackup</th>\n",
       "      <th>DeviceProtection</th>\n",
       "      <th>TechSupport</th>\n",
       "      <th>StreamingTV</th>\n",
       "      <th>StreamingMovies</th>\n",
       "      <th>Contract</th>\n",
       "      <th>PaperlessBilling</th>\n",
       "      <th>PaymentMethod</th>\n",
       "      <th>MonthlyCharges</th>\n",
       "      <th>TotalCharges</th>\n",
       "      <th>Churn</th>\n",
       "    </tr>\n",
       "  </thead>\n",
       "  <tbody>\n",
       "    <tr>\n",
       "      <th>0</th>\n",
       "      <td>Female</td>\n",
       "      <td>0</td>\n",
       "      <td>Yes</td>\n",
       "      <td>No</td>\n",
       "      <td>1</td>\n",
       "      <td>No</td>\n",
       "      <td>No phone service</td>\n",
       "      <td>DSL</td>\n",
       "      <td>No</td>\n",
       "      <td>Yes</td>\n",
       "      <td>No</td>\n",
       "      <td>No</td>\n",
       "      <td>No</td>\n",
       "      <td>No</td>\n",
       "      <td>Month-to-month</td>\n",
       "      <td>Yes</td>\n",
       "      <td>Electronic check</td>\n",
       "      <td>29.85</td>\n",
       "      <td>29.85</td>\n",
       "      <td>No</td>\n",
       "    </tr>\n",
       "    <tr>\n",
       "      <th>1</th>\n",
       "      <td>Male</td>\n",
       "      <td>0</td>\n",
       "      <td>No</td>\n",
       "      <td>No</td>\n",
       "      <td>34</td>\n",
       "      <td>Yes</td>\n",
       "      <td>No</td>\n",
       "      <td>DSL</td>\n",
       "      <td>Yes</td>\n",
       "      <td>No</td>\n",
       "      <td>Yes</td>\n",
       "      <td>No</td>\n",
       "      <td>No</td>\n",
       "      <td>No</td>\n",
       "      <td>One year</td>\n",
       "      <td>No</td>\n",
       "      <td>Mailed check</td>\n",
       "      <td>56.95</td>\n",
       "      <td>1889.50</td>\n",
       "      <td>No</td>\n",
       "    </tr>\n",
       "    <tr>\n",
       "      <th>2</th>\n",
       "      <td>Male</td>\n",
       "      <td>0</td>\n",
       "      <td>No</td>\n",
       "      <td>No</td>\n",
       "      <td>2</td>\n",
       "      <td>Yes</td>\n",
       "      <td>No</td>\n",
       "      <td>DSL</td>\n",
       "      <td>Yes</td>\n",
       "      <td>Yes</td>\n",
       "      <td>No</td>\n",
       "      <td>No</td>\n",
       "      <td>No</td>\n",
       "      <td>No</td>\n",
       "      <td>Month-to-month</td>\n",
       "      <td>Yes</td>\n",
       "      <td>Mailed check</td>\n",
       "      <td>53.85</td>\n",
       "      <td>108.15</td>\n",
       "      <td>Yes</td>\n",
       "    </tr>\n",
       "    <tr>\n",
       "      <th>3</th>\n",
       "      <td>Male</td>\n",
       "      <td>0</td>\n",
       "      <td>No</td>\n",
       "      <td>No</td>\n",
       "      <td>45</td>\n",
       "      <td>No</td>\n",
       "      <td>No phone service</td>\n",
       "      <td>DSL</td>\n",
       "      <td>Yes</td>\n",
       "      <td>No</td>\n",
       "      <td>Yes</td>\n",
       "      <td>Yes</td>\n",
       "      <td>No</td>\n",
       "      <td>No</td>\n",
       "      <td>One year</td>\n",
       "      <td>No</td>\n",
       "      <td>Bank transfer (automatic)</td>\n",
       "      <td>42.30</td>\n",
       "      <td>1840.75</td>\n",
       "      <td>No</td>\n",
       "    </tr>\n",
       "    <tr>\n",
       "      <th>4</th>\n",
       "      <td>Female</td>\n",
       "      <td>0</td>\n",
       "      <td>No</td>\n",
       "      <td>No</td>\n",
       "      <td>2</td>\n",
       "      <td>Yes</td>\n",
       "      <td>No</td>\n",
       "      <td>Fiber optic</td>\n",
       "      <td>No</td>\n",
       "      <td>No</td>\n",
       "      <td>No</td>\n",
       "      <td>No</td>\n",
       "      <td>No</td>\n",
       "      <td>No</td>\n",
       "      <td>Month-to-month</td>\n",
       "      <td>Yes</td>\n",
       "      <td>Electronic check</td>\n",
       "      <td>70.70</td>\n",
       "      <td>151.65</td>\n",
       "      <td>Yes</td>\n",
       "    </tr>\n",
       "  </tbody>\n",
       "</table>\n",
       "</div>"
      ],
      "text/plain": [
       "   gender  SeniorCitizen Partner Dependents  tenure PhoneService  \\\n",
       "0  Female              0     Yes         No       1           No   \n",
       "1    Male              0      No         No      34          Yes   \n",
       "2    Male              0      No         No       2          Yes   \n",
       "3    Male              0      No         No      45           No   \n",
       "4  Female              0      No         No       2          Yes   \n",
       "\n",
       "      MultipleLines InternetService OnlineSecurity OnlineBackup  \\\n",
       "0  No phone service             DSL             No          Yes   \n",
       "1                No             DSL            Yes           No   \n",
       "2                No             DSL            Yes          Yes   \n",
       "3  No phone service             DSL            Yes           No   \n",
       "4                No     Fiber optic             No           No   \n",
       "\n",
       "  DeviceProtection TechSupport StreamingTV StreamingMovies        Contract  \\\n",
       "0               No          No          No              No  Month-to-month   \n",
       "1              Yes          No          No              No        One year   \n",
       "2               No          No          No              No  Month-to-month   \n",
       "3              Yes         Yes          No              No        One year   \n",
       "4               No          No          No              No  Month-to-month   \n",
       "\n",
       "  PaperlessBilling              PaymentMethod  MonthlyCharges  TotalCharges  \\\n",
       "0              Yes           Electronic check           29.85         29.85   \n",
       "1               No               Mailed check           56.95       1889.50   \n",
       "2              Yes               Mailed check           53.85        108.15   \n",
       "3               No  Bank transfer (automatic)           42.30       1840.75   \n",
       "4              Yes           Electronic check           70.70        151.65   \n",
       "\n",
       "  Churn  \n",
       "0    No  \n",
       "1    No  \n",
       "2   Yes  \n",
       "3    No  \n",
       "4   Yes  "
      ]
     },
     "execution_count": 9,
     "metadata": {},
     "output_type": "execute_result"
    }
   ],
   "source": [
    "# Como não nos importa o ID do usuário, iremos retirar essa informação de nossa tabela\n",
    "# Para manter a integridade dos dados, o dataframe initial (dfi) será substituído por dataframe analysis (dfa)\n",
    "\n",
    "dfa = dfi.drop(\"customerID\", axis = 1)\n",
    "\n",
    "dfa.head()"
   ]
  },
  {
   "cell_type": "markdown",
   "id": "f749bb1b-83fe-4e68-8131-4bf807dcbbc8",
   "metadata": {},
   "source": [
    "Agora iremos dividir os dados de acordo com suas semelhanças (buscando analisar, custos, demografia, preferências do serviço, etc...) e plotaremos estas informações contra Churn para verificar a probabilidade do cliente deixar de usar o serviço contratado. Olharemos as seguintes informações em conjunto:\n",
    "    \n",
    "    1. gender, SeniorCitizen, Partner e Dependents (dados 'demográficos');\n",
    "    2. PhoneService, MultipleLines e InternetService (tipos de serviços contratados);\n",
    "    3. OnlineSecurity, OnlineBackup, DeviceProtection e TechSupport (segurança e suporte);\n",
    "    4. StreamingTV e StreamingMovies (serviços de streaming);\n",
    "    5. Contract, PaperlessBilling e PaymentMethod (informações contratuais e de pagamento);\n",
    "    6. Tenure, MonthlyCharges e TotalCharges (informações financeiras).\n",
    "    \n",
    "Com isso espero conseguir entender um pouco melhor que tipo de publico estamos lidando e suas preferências. "
   ]
  },
  {
   "cell_type": "markdown",
   "id": "f1075fc5-815c-4142-a9d5-362b5cccb052",
   "metadata": {},
   "source": [
    "## 1. Dados demográficos"
   ]
  },
  {
   "cell_type": "code",
   "execution_count": 10,
   "id": "973965d8",
   "metadata": {},
   "outputs": [
    {
     "data": {
      "image/png": "[encoded data removed]",
      "text/plain": [
       "<Figure size 648x648 with 4 Axes>"
      ]
     },
     "metadata": {
      "needs_background": "light"
     },
     "output_type": "display_data"
    }
   ],
   "source": [
    "# Plotaremos gender, SeniorCitizen, Partner e Dependents para análise\n",
    "# Primeiro criamos uma figura com 4 gráficos e depois iremos assimilar os valores de acordo com sua posição\n",
    "# Este método será repetido para todas as analises que realizaremos para padronizar a visualização dos dados\n",
    "\n",
    "fig1, axs = plt.subplots(2, 2, figsize=(9, 9))\n",
    "\n",
    "sns.histplot(data=dfa, x=\"gender\", hue=\"Churn\", stat='probability', bins=2, discrete='bool', multiple=\"stack\", ax=axs[0,0])\n",
    "sns.histplot(data=dfa, x=\"SeniorCitizen\", hue=\"Churn\", stat='probability', bins=2, discrete='bool', multiple=\"stack\", ax=axs[0,1]).set(xticks=[0,1])\n",
    "sns.histplot(data=dfa, x=\"Partner\", hue=\"Churn\", stat='probability', bins=2, discrete='bool', multiple=\"stack\", ax=axs[1,0])\n",
    "sns.histplot(data=dfa, x=\"Dependents\", hue=\"Churn\", stat='probability', bins=2, discrete='bool', multiple=\"stack\", ax=axs[1,1])\n",
    "\n",
    "plt.show()"
   ]
  },
  {
   "cell_type": "markdown",
   "id": "5bbeced0-fa76-41c4-a603-c9ab22e52303",
   "metadata": {},
   "source": [
    "### Observações\n",
    "\n",
    "1. Não há diferença de Churn entre homens e mulheres;\n",
    "2. Existe uma chance de ~25% de pessoas jovens deixar o serviço, enquanto para os idosos a chance é de ~40%;\n",
    "3. Há pouca influência a pessoa ser casada ou não quanto ao Churn, sendo os solteiros os mais propensos a deixar o serviço;\n",
    "4. Clientes sem dependentes possuem ~28% de chance de evasão, sendo mais propensos do que os com dependentes.\n",
    "\n",
    "Deste modo, vamos analisar um pouco melhor os Dependentes para compreender como afetam os públicos jovem e sênior."
   ]
  },
  {
   "cell_type": "code",
   "execution_count": 28,
   "id": "e54274fe-b6b7-4528-bbf3-9906aa18a4a1",
   "metadata": {},
   "outputs": [
    {
     "data": {
      "image/png": "[encoded data removed]",
      "text/plain": [
       "<Figure size 648x360 with 2 Axes>"
      ]
     },
     "metadata": {
      "needs_background": "light"
     },
     "output_type": "display_data"
    }
   ],
   "source": [
    "# Primeiro criarei um dataframe somente com as informações dos idosos/jovens \n",
    "\n",
    "senior = dfa[dfa['SeniorCitizen'] == 1]\n",
    "not_senior = dfa[dfa['SeniorCitizen'] == 0]\n",
    "\n",
    "# Agora voltamos a vizualização das probabilidades de acordo com o Churn\n",
    "\n",
    "fig2, axs = plt.subplots(1, 2, figsize=(9, 5))\n",
    "\n",
    "sns.histplot(data=senior, x=\"Dependents\", hue=\"Churn\", stat='probability',\n",
    "             bins=2, discrete='bool', multiple=\"stack\",hue_order=['No','Yes'], ax=axs[0]).set(title='Usuário idoso')\n",
    "sns.histplot(data=not_senior, x=\"Dependents\", hue=\"Churn\", stat='probability',\n",
    "             bins=2, discrete='bool', multiple=\"stack\",hue_order=['No','Yes'], ax=axs[1]).set(title='Usuário jovem')\n",
    "\n",
    "plt.show()"
   ]
  },
  {
   "cell_type": "markdown",
   "id": "f48edc3b-4f0e-4e06-996f-0359eb9b6fcb",
   "metadata": {},
   "source": [
    "Como já era esperado, existe maior chance de pessoas idosas deixarem de usar serviço, mas vemos que os idosos sem dependentes são muito mais propensos a isto. Enquanto para os jovens, não ter dependentes traz a maior probabilidade da pessoa deixar o serviço.\n",
    "\n",
    "Vale lembrar que ~84% da população não é idosa, logo devemos focar no público jovem para trazer resultados mais significativos para a empresa."
   ]
  },
  {
   "cell_type": "markdown",
   "id": "07b6d2ba-f827-4bdb-b453-d80b4ad0a800",
   "metadata": {},
   "source": [
    "## 2. Tipos de serviços contratados"
   ]
  },
  {
   "cell_type": "code",
   "execution_count": 12,
   "id": "e462af8d-20a8-482c-b360-187d4604e340",
   "metadata": {},
   "outputs": [
    {
     "data": {
      "image/png": "[encoded data removed]",
      "text/plain": [
       "<Figure size 936x360 with 3 Axes>"
      ]
     },
     "metadata": {
      "needs_background": "light"
     },
     "output_type": "display_data"
    }
   ],
   "source": [
    "# De forma similar, plotaremos PhoneService, MultipleLines e InternetService para análise\n",
    "\n",
    "fig3, axs = plt.subplots(1, 3, figsize=(13, 5))\n",
    "\n",
    "sns.histplot(data=dfa, x=\"PhoneService\", hue=\"Churn\", stat='probability', bins=2, discrete='bool', multiple=\"stack\", ax=axs[0])\n",
    "sns.histplot(data=dfa, x=\"MultipleLines\", hue=\"Churn\", stat='probability', bins=2, discrete='bool', multiple=\"stack\", ax=axs[1])\n",
    "sns.histplot(data=dfa, x=\"InternetService\", hue=\"Churn\", stat='probability', bins=3, discrete='bool', multiple=\"stack\", ax=axs[2])\n",
    "\n",
    "plt.show()"
   ]
  },
  {
   "cell_type": "markdown",
   "id": "dd8e9796-8939-4603-96a8-585911abc4b4",
   "metadata": {},
   "source": [
    "### Observações\n",
    "\n",
    "1. A chance da pessoa com serviço telefônico deixar o serviço é da ordem de 30%;\n",
    "2. Ter multiplas linhas aumenta a chance do churn ocorrer e há uma distribuição similar de pessoas com e sem múltiplas linhas;\n",
    "3. Com praticamente 50% de desistência do serviço, a Fibra ótica é um fator importante a ser trabalhado;\n",
    "4. Não possuir linha telefônica não tem efeito real sobre a dessistência do serviço, enquanto não possuir Internet, aumenta consideravelmente a possibilidade da pessoa ficar.\n",
    "\n",
    "Como a observação 4 consiste de somente 10% e 20% do total de usuários considerando os serviços de telefonia e internet respectivamente, não vamos levar a analise destes perfis adiante (não trará resultados significativos para a empresa trabalhar nestes fatores).\n",
    "Novamente, vamos cruzar as informações para compreender melhor este tipo de usuário."
   ]
  },
  {
   "cell_type": "code",
   "execution_count": 13,
   "id": "ea1408f0-03e0-402d-91ba-b59cab6f787c",
   "metadata": {},
   "outputs": [
    {
     "data": {
      "image/png": "[encoded data removed]",
      "text/plain": [
       "<Figure size 648x360 with 2 Axes>"
      ]
     },
     "metadata": {
      "needs_background": "light"
     },
     "output_type": "display_data"
    }
   ],
   "source": [
    "# Vamos utilizar somente os fatores Yes/No de MultipleLines para facilitar o estudo das pessoas com linha telefônica\n",
    "\n",
    "mult_line = dfa[dfa['MultipleLines'] == 'Yes']\n",
    "single_line = dfa[dfa['MultipleLines'] == 'No']\n",
    "\n",
    "fig4, axs = plt.subplots(1, 2, figsize=(9, 5))\n",
    "\n",
    "sns.histplot(data=single_line, x=\"InternetService\", hue=\"Churn\", stat='probability',\n",
    "             bins=3, discrete='bool', multiple=\"stack\",hue_order=['No','Yes'], ax=axs[0]).set(title='Linha única')\n",
    "sns.histplot(data=mult_line, x=\"InternetService\", hue=\"Churn\", stat='probability',\n",
    "             bins=3, discrete='bool', multiple=\"stack\",hue_order=['No','Yes'], ax=axs[1]).set(title='Multiplas linhas')\n",
    "\n",
    "plt.show()"
   ]
  },
  {
   "cell_type": "markdown",
   "id": "8a5d67a6-a3bb-47b8-b02e-f7eab3b3a499",
   "metadata": {},
   "source": [
    "Aqui observamos que ter fibra ótica tem praticamente a mesma interferência para usuários com única ou múltipla linha telefônica. De forma similar, não temos uma diferença significativa para usuários com DSL, logo podemos concluir, que utilizar fibra ótica é crítico na evasão de usúarios.\n",
    "Curiosamente, 1/3 dos usuários com linha única também não possuem internet."
   ]
  },
  {
   "cell_type": "markdown",
   "id": "4915b0f4-dffa-4fd0-85eb-1325aa61d247",
   "metadata": {},
   "source": [
    "## 3. Segurança e suporte"
   ]
  },
  {
   "cell_type": "code",
   "execution_count": 14,
   "id": "b4fb15e4-b249-48b4-80ab-12c670c2ae2b",
   "metadata": {},
   "outputs": [
    {
     "data": {
      "image/png": "[encoded data removed]",
      "text/plain": [
       "<Figure size 720x864 with 4 Axes>"
      ]
     },
     "metadata": {
      "needs_background": "light"
     },
     "output_type": "display_data"
    }
   ],
   "source": [
    "# Agora analisaremos OnlineSecurity, OnlineBackup, DeviceProtection e TechSupport\n",
    "\n",
    "fig5, axs = plt.subplots(2, 2, figsize=(10, 12))\n",
    "\n",
    "sns.histplot(data=dfa, x=\"OnlineSecurity\", hue=\"Churn\", stat='probability', bins=3, discrete='bool', multiple=\"stack\", ax=axs[0,0])\n",
    "sns.histplot(data=dfa, x=\"OnlineBackup\", hue=\"Churn\", stat='probability', bins=3, discrete='bool', multiple=\"stack\", ax=axs[1,0])\n",
    "sns.histplot(data=dfa, x=\"DeviceProtection\", hue=\"Churn\", stat='probability', bins=3, discrete='bool', multiple=\"stack\", ax=axs[0,1])\n",
    "sns.histplot(data=dfa, x=\"TechSupport\", hue=\"Churn\", stat='probability', bins=3, discrete='bool', multiple=\"stack\", ax=axs[1,1])\n",
    "\n",
    "plt.show()"
   ]
  },
  {
   "cell_type": "markdown",
   "id": "6d9444a3-58b3-4edb-a578-5871beb03b58",
   "metadata": {},
   "source": [
    "### Observações\n",
    "\n",
    "Antes de iniciar a observação, vale lembrar que a informação para \"No internet service\" é idêntica análise anterior (referência aos mesmos clientes).\n",
    "\n",
    "1. Para os que possuem segurança e suporte (aproximadamente 30% dos usuários), ter segurança online e suporte técnico aumentam as chances de ser cliente, enquanto Backup online e proteção de dispositivo aumentam as chances de deixar de usar o serviço;\n",
    "2. Aproximadamente 40% dos usuários que não contratam nenhum serviço de segurança e suporte são Churn positivo.\n",
    "\n",
    "Concluimos com certa segurança que segurança e backup online, proteção de aparelhos e suporte técnico são essenciais para diminuir a evasão dos clientes."
   ]
  },
  {
   "cell_type": "markdown",
   "id": "b9dac58e-9f5e-42f5-b9b6-58f08c1b2f6a",
   "metadata": {},
   "source": [
    "## 4. Serviços de Streaming"
   ]
  },
  {
   "cell_type": "code",
   "execution_count": 15,
   "id": "8d3aaf9d-b3fd-4d17-84f6-0e7e7fdcda5b",
   "metadata": {},
   "outputs": [
    {
     "data": {
      "image/png": "[encoded data removed]",
      "text/plain": [
       "<Figure size 720x360 with 2 Axes>"
      ]
     },
     "metadata": {
      "needs_background": "light"
     },
     "output_type": "display_data"
    }
   ],
   "source": [
    "# Agora analisaremos as categorias StreamingTV e StreamingMovies\n",
    "\n",
    "fig6, axs = plt.subplots(1, 2, figsize=(10, 5))\n",
    "\n",
    "sns.histplot(data=dfa, x=\"StreamingTV\", hue=\"Churn\", stat='probability',\n",
    "             bins=3, discrete='bool', multiple=\"stack\",hue_order=['No','Yes'], ax=axs[0])\n",
    "sns.histplot(data=dfa, x=\"StreamingMovies\", hue=\"Churn\", stat='probability',\n",
    "             bins=3, discrete='bool', multiple=\"stack\",hue_order=['No','Yes'], ax=axs[1])\n",
    "\n",
    "plt.show()"
   ]
  },
  {
   "cell_type": "markdown",
   "id": "82932502-91f9-46cc-be01-62d4f844d799",
   "metadata": {},
   "source": [
    "### Observações\n",
    "\n",
    "Existe uma probabilidade aproximada de 35% de evasão do usuário quer ele tenha Streaming de TV/filmes, ou não. Logo, este não é um serviço que irá influênciar o consumidor a se manter cliente da companhia no final do dia."
   ]
  },
  {
   "cell_type": "markdown",
   "id": "26710c5f-4296-4e4e-a6a3-b4cde64306d8",
   "metadata": {},
   "source": [
    "## 5. Informações contratuais e de pagamento"
   ]
  },
  {
   "cell_type": "code",
   "execution_count": 16,
   "id": "1e3dd158-6b22-4df7-9f24-7cc025f5cbf9",
   "metadata": {},
   "outputs": [
    {
     "data": {
      "image/png": "[encoded data removed]",
      "text/plain": [
       "<Figure size 648x360 with 2 Axes>"
      ]
     },
     "metadata": {
      "needs_background": "light"
     },
     "output_type": "display_data"
    }
   ],
   "source": [
    "# Analisaremos Contract, PaperlessBilling e PaymentMethod a seguir\n",
    "\n",
    "fig7, axs = plt.subplots(1, 2, figsize=(9, 5))\n",
    "\n",
    "sns.histplot(data=dfa, x=\"Contract\", hue=\"Churn\", stat='probability', bins=3, discrete='bool', multiple=\"stack\", ax=axs[0])\n",
    "sns.histplot(data=dfa, x=\"PaperlessBilling\", hue=\"Churn\", stat='probability', bins=2, discrete='bool', multiple=\"stack\", ax=axs[1])\n",
    "\n",
    "plt.show()"
   ]
  },
  {
   "cell_type": "code",
   "execution_count": 17,
   "id": "457b0b72-fed4-4225-9c46-dccb9a5463fd",
   "metadata": {},
   "outputs": [
    {
     "data": {
      "image/png": "[encoded data removed]",
      "text/plain": [
       "<Figure size 648x648 with 4 Axes>"
      ]
     },
     "metadata": {
      "needs_background": "light"
     },
     "output_type": "display_data"
    }
   ],
   "source": [
    "# Para o método de pagamento, a ideia original não funcionou, então precisei criar histogramas para cada tipo de pagamento :(\n",
    "\n",
    "hist1 = dfa[dfa['PaymentMethod']=='Electronic check']\n",
    "hist2 = dfa[dfa['PaymentMethod']=='Mailed check']\n",
    "hist3 = dfa[dfa['PaymentMethod']=='Bank transfer (automatic)']\n",
    "hist4 = dfa[dfa['PaymentMethod']=='Credit card (automatic)']\n",
    "\n",
    "fig8, axs = plt.subplots(2, 2, figsize=(9, 9))\n",
    "\n",
    "sns.histplot(data=hist1, x=\"PaymentMethod\", hue=\"Churn\", stat='probability', bins=1, discrete='bool', multiple=\"stack\", ax=axs[0,0])\n",
    "sns.histplot(data=hist2, x=\"PaymentMethod\", hue=\"Churn\", stat='probability', bins=1, discrete='bool', multiple=\"stack\", ax=axs[1,0])\n",
    "sns.histplot(data=hist3, x=\"PaymentMethod\", hue=\"Churn\", stat='probability', bins=1, discrete='bool', multiple=\"stack\", ax=axs[0,1])\n",
    "sns.histplot(data=hist4, x=\"PaymentMethod\", hue=\"Churn\", stat='probability', bins=1, discrete='bool', multiple=\"stack\", ax=axs[1,1])\n",
    "\n",
    "plt.show()"
   ]
  },
  {
   "cell_type": "markdown",
   "id": "af16f66d-a77a-45a9-94d6-b728049c443c",
   "metadata": {},
   "source": [
    "## Observações\n",
    "\n",
    "1. Os contratos de um e dois anos estão desempenhando muito bem, isto mostra que a empresa consegue reter clientes desta categoria com facilidade;\n",
    "2. Quase 50% dos clientes com contratos mensais deixam o serviço;\n",
    "3. Há mais pessoas com cobranças sem papel e a probabilidade de sairem é o dobro das que recebem em papel (34% vs 17%);\n",
    "4. Clientes com cheque eletrônico possuem quase 50% de sair do serviço e são a maioria das pessoas. \n",
    "\n",
    "Vale lembrar que de acordo com nossas analises iniciais, existem 2300 (33%) pessoas usando cheque eletrônico enquanto há 1500 (21%) utilizando cada uma das outras categorias."
   ]
  },
  {
   "cell_type": "markdown",
   "id": "dffbf948-508e-4fd7-8036-507179ad25fa",
   "metadata": {},
   "source": [
    "## 6. Informações financeiras"
   ]
  },
  {
   "cell_type": "code",
   "execution_count": 18,
   "id": "6a767d29-b117-411d-92ae-e76dec7a0d42",
   "metadata": {},
   "outputs": [
    {
     "data": {
      "text/html": [
       "<div>\n",
       "<style scoped>\n",
       "    .dataframe tbody tr th:only-of-type {\n",
       "        vertical-align: middle;\n",
       "    }\n",
       "\n",
       "    .dataframe tbody tr th {\n",
       "        vertical-align: top;\n",
       "    }\n",
       "\n",
       "    .dataframe thead th {\n",
       "        text-align: right;\n",
       "    }\n",
       "</style>\n",
       "<table border=\"1\" class=\"dataframe\">\n",
       "  <thead>\n",
       "    <tr style=\"text-align: right;\">\n",
       "      <th></th>\n",
       "      <th>SeniorCitizen</th>\n",
       "      <th>tenure</th>\n",
       "      <th>MonthlyCharges</th>\n",
       "      <th>TotalCharges</th>\n",
       "    </tr>\n",
       "  </thead>\n",
       "  <tbody>\n",
       "    <tr>\n",
       "      <th>count</th>\n",
       "      <td>7032.000000</td>\n",
       "      <td>7032.000000</td>\n",
       "      <td>7032.000000</td>\n",
       "      <td>7032.000000</td>\n",
       "    </tr>\n",
       "    <tr>\n",
       "      <th>mean</th>\n",
       "      <td>0.162400</td>\n",
       "      <td>32.421786</td>\n",
       "      <td>64.798208</td>\n",
       "      <td>2283.300441</td>\n",
       "    </tr>\n",
       "    <tr>\n",
       "      <th>std</th>\n",
       "      <td>0.368844</td>\n",
       "      <td>24.545260</td>\n",
       "      <td>30.085974</td>\n",
       "      <td>2266.771362</td>\n",
       "    </tr>\n",
       "    <tr>\n",
       "      <th>min</th>\n",
       "      <td>0.000000</td>\n",
       "      <td>1.000000</td>\n",
       "      <td>18.250000</td>\n",
       "      <td>18.800000</td>\n",
       "    </tr>\n",
       "    <tr>\n",
       "      <th>25%</th>\n",
       "      <td>0.000000</td>\n",
       "      <td>9.000000</td>\n",
       "      <td>35.587500</td>\n",
       "      <td>401.450000</td>\n",
       "    </tr>\n",
       "    <tr>\n",
       "      <th>50%</th>\n",
       "      <td>0.000000</td>\n",
       "      <td>29.000000</td>\n",
       "      <td>70.350000</td>\n",
       "      <td>1397.475000</td>\n",
       "    </tr>\n",
       "    <tr>\n",
       "      <th>75%</th>\n",
       "      <td>0.000000</td>\n",
       "      <td>55.000000</td>\n",
       "      <td>89.862500</td>\n",
       "      <td>3794.737500</td>\n",
       "    </tr>\n",
       "    <tr>\n",
       "      <th>max</th>\n",
       "      <td>1.000000</td>\n",
       "      <td>72.000000</td>\n",
       "      <td>118.750000</td>\n",
       "      <td>8684.800000</td>\n",
       "    </tr>\n",
       "  </tbody>\n",
       "</table>\n",
       "</div>"
      ],
      "text/plain": [
       "       SeniorCitizen       tenure  MonthlyCharges  TotalCharges\n",
       "count    7032.000000  7032.000000     7032.000000   7032.000000\n",
       "mean        0.162400    32.421786       64.798208   2283.300441\n",
       "std         0.368844    24.545260       30.085974   2266.771362\n",
       "min         0.000000     1.000000       18.250000     18.800000\n",
       "25%         0.000000     9.000000       35.587500    401.450000\n",
       "50%         0.000000    29.000000       70.350000   1397.475000\n",
       "75%         0.000000    55.000000       89.862500   3794.737500\n",
       "max         1.000000    72.000000      118.750000   8684.800000"
      ]
     },
     "execution_count": 18,
     "metadata": {},
     "output_type": "execute_result"
    }
   ],
   "source": [
    "# Vamos revisar inicialmente os valores e compreender o que temos em termos básicos de estatística\n",
    "\n",
    "dfa.describe()"
   ]
  },
  {
   "cell_type": "markdown",
   "id": "4fea893a-6a45-49f7-8960-c06a96edf96c",
   "metadata": {},
   "source": [
    "Para as três categorias financeiras (tenure, MonthlyCharges e TotalCharges) temos valores bem variados com grande desvio padrão. Deste modo irei verificar se há outliers nos dados que precisam ser tratados."
   ]
  },
  {
   "cell_type": "code",
   "execution_count": 19,
   "id": "40cefeaf-6b05-4e6c-9e13-9bc43db17aed",
   "metadata": {},
   "outputs": [
    {
     "data": {
      "image/png": "[encoded data removed]",
      "text/plain": [
       "<Figure size 864x360 with 3 Axes>"
      ]
     },
     "metadata": {
      "needs_background": "light"
     },
     "output_type": "display_data"
    }
   ],
   "source": [
    "# Utilizando da mesma técnica de subplot, criarei o boxplot de cada característica\n",
    "\n",
    "fig9, axs = plt.subplots(1, 3, figsize=(12, 5))\n",
    "\n",
    "sns.boxplot(data=dfa['tenure'], ax=axs[0]).set(title='tenure')\n",
    "sns.boxplot(data=dfa['MonthlyCharges'], ax=axs[1]).set(title='MonthlyCharges')\n",
    "sns.boxplot(data=dfa['TotalCharges'], ax=axs[2]).set(title='TotalCharges')\n",
    "\n",
    "plt.show()"
   ]
  },
  {
   "cell_type": "markdown",
   "id": "fbe90f3d-a645-496d-882c-17623ba2a21e",
   "metadata": {},
   "source": [
    "Felizmente não há outliers nos dados para nenhuma das categorias em analise. "
   ]
  },
  {
   "cell_type": "code",
   "execution_count": 20,
   "id": "24ad183b-5ee4-4e38-81e1-09962452e142",
   "metadata": {},
   "outputs": [
    {
     "data": {
      "image/png": "[encoded data removed]",
      "text/plain": [
       "<Figure size 1080x360 with 3 Axes>"
      ]
     },
     "metadata": {
      "needs_background": "light"
     },
     "output_type": "display_data"
    }
   ],
   "source": [
    "# Retornando a analise costumeira. Utilizaremos de bin = 5 ou 6 para facilitar a compreensão dos dados\n",
    "\n",
    "fig10, axs = plt.subplots(1, 3, figsize=(15, 5))\n",
    "\n",
    "sns.histplot(data=dfa, x=\"tenure\", hue=\"Churn\", stat='probability', bins=5, multiple=\"stack\", ax=axs[0])\n",
    "sns.histplot(data=dfa, x=\"MonthlyCharges\", hue=\"Churn\", stat='probability', bins=6, multiple=\"stack\", ax=axs[1])\n",
    "sns.histplot(data=dfa, x=\"TotalCharges\", hue=\"Churn\", stat='probability', bins=5, multiple=\"stack\", ax=axs[2])\n",
    "\n",
    "plt.show()"
   ]
  },
  {
   "cell_type": "markdown",
   "id": "4f31a946-5e5e-4a35-90e0-db573da889d6",
   "metadata": {},
   "source": [
    "## Observações\n",
    "\n",
    "1. O tempo que o cliente está na companhia influência muito na probabilidade dele deixá-la ou não. Esta observação é condizente com as encontradas nas condições de pagamento quanto ao tipo de contrato que o cliente utiliza;\n",
    "2. Pagar taxas mensais até 40 dólares auxilía na retensão de clientes, enquanto valores entre 70 e 100 dólares torna mais provável que o cliente deixe de utilizar o serviço, sendo esta uma faixa crítica devido a praticamente 45% dos clientes pagarem este valor atualmente;\n",
    "3. Como a maior evasão ocorre para clientes com pouco tempo de casa, é compreensível que para menores valor total pago, maiores as chances de saída do serviço.\n",
    "\n",
    "Por via das dúvidas, irei analisar se os clientes que pagam mês a mês possuem o serviço a pouco tempo e/ou estão na faixa crítica de pagamento de contas."
   ]
  },
  {
   "cell_type": "code",
   "execution_count": 21,
   "id": "67e0b469-c38b-4372-8342-dee715553974",
   "metadata": {},
   "outputs": [
    {
     "data": {
      "image/png": "[encoded data removed]",
      "text/plain": [
       "<Figure size 792x360 with 2 Axes>"
      ]
     },
     "metadata": {
      "needs_background": "light"
     },
     "output_type": "display_data"
    }
   ],
   "source": [
    "# Separando os dados de contratos mensais e plotando contra tenure/MonthlyCharges\n",
    "\n",
    "monthly = dfa[dfa['Contract'] == 'Month-to-month']\n",
    "\n",
    "fig11, axs = plt.subplots(1, 2, figsize=(11, 5))\n",
    "\n",
    "sns.histplot(data=monthly, x=\"tenure\", hue=\"Churn\", stat='probability', bins=5, multiple=\"stack\", ax=axs[0])\n",
    "sns.histplot(data=monthly, x=\"MonthlyCharges\", hue=\"Churn\", stat='probability', bins=6, multiple=\"stack\", ax=axs[1])\n",
    "\n",
    "plt.show()"
   ]
  },
  {
   "cell_type": "markdown",
   "id": "f6277875-ab25-4e6d-a4c0-35a0319e163e",
   "metadata": {},
   "source": [
    "Novamente corroboramos a hipótese de influência do tempo de casa. Mesmo com contrato mensal, ser cliente a mais tempo diminuí a probabilidade de evasão. De maneira similar, observamos uma vez mais a criticidade das cobranças mensais com valores acima de 70 dólares.\n",
    "Farei uma análise rápida também dos clientes que usam DSL/Fibra ótica para entender quanto cada perfil paga. De maneira geral, o DSL é mais barato e confiável, enquanto a fibra ótica, por ser uma tecnologia relativamente nova, é mais cara."
   ]
  },
  {
   "cell_type": "code",
   "execution_count": 23,
   "id": "a0f0b000-3506-441b-a182-9ba57583330a",
   "metadata": {},
   "outputs": [
    {
     "data": {
      "image/png": "[encoded data removed]",
      "text/plain": [
       "<Figure size 648x360 with 2 Axes>"
      ]
     },
     "metadata": {
      "needs_background": "light"
     },
     "output_type": "display_data"
    }
   ],
   "source": [
    "# Criando o dataframe para DSL e Fibra ótica\n",
    "\n",
    "dsl = dfa[dfa['InternetService'] == 'DSL']\n",
    "fiber = dfa[dfa['InternetService'] == 'Fiber optic']\n",
    "\n",
    "fig12, axs = plt.subplots(1, 2, figsize=(9, 5))\n",
    "\n",
    "sns.histplot(data=dsl, x=\"MonthlyCharges\", hue=\"Churn\", stat='probability',\n",
    "             bins=6, multiple=\"stack\",hue_order=['No','Yes'], ax=axs[0]).set(title='DSL')\n",
    "sns.histplot(data=fiber, x=\"MonthlyCharges\", hue=\"Churn\", stat='probability',\n",
    "             bins=6, multiple=\"stack\",hue_order=['No','Yes'], ax=axs[1]).set(title='Fibra ótica')\n",
    "\n",
    "plt.show()"
   ]
  },
  {
   "cell_type": "markdown",
   "id": "39251600-d418-49fe-9dbe-aa0a8f29b296",
   "metadata": {},
   "source": [
    "Como previsto, os custos da fibra ótica são maiores e encontram-se justamente na faixa crítica de custos mensais. Isto nos leva a concluir que ou o serviço da fibra ótica está deixando a desejar e/ou com problemas, ou há outros players no mercado oferecendo este serviço por preços menores.\n",
    "\n",
    "Quanto ao DSL, a cobrança entre  30 e 70 dólares aparenta ser mais efetiva do que as abaixo de 30 dólares. Suponho que há uma possível captação de valor a ser trabalhada nesta faixa de preço."
   ]
  },
  {
   "cell_type": "markdown",
   "id": "a9a9b869-6bde-4dff-b0d8-92b6761db150",
   "metadata": {},
   "source": [
    "# Identificação de personas\n",
    "\n",
    "Irei realizar um breve sumário das informações obtidas até então e definar personas de acordo com as características observadas. Em seguida, irei sugerir alguns planos de ações para melhorar os serviços e aumentar na retenção de clientes.\n",
    "\n",
    "### Clientes felizes \n",
    "Os clientes com os serviços contratados são jovens casados e/ou com dependentes e internet DSL. Utilizam dos serviços de segurança e suporte. Estão atrelados a contratos de longa duração, preferem ter suas contas em papel e utilizam de cobrança automática. O serviços lhes custam uma bagatela de 40 dolares.\n",
    "\n",
    "### Clientes não tão felizes\n",
    "Os clientes propensos a evasão são jovens solteiros e/ou sem dependentes e idosos com internet de fibra ótica. Sem serviços de segurança e suporte e com contratos mensais. Utilizam de cheque eletrônico como meio de pagamento e contrataram os serviços da telecom a aproximadamente um ano ou menos. Além disto, pagam entre 70 e 100 dólares - caro e sem vantagens!\n",
    "\n",
    "\n",
    "## Melhorias sugeridas\n",
    "O nosso estudo nos promoveu clareza quanto ao perfil de cliente que se mantém fiel a companhia e aqueles que estão mais propensos a evasão. Agora nos resta traçar planos de ações para lidar com estas informações e trazer resultados factivéis.\n",
    "\n",
    "Primeiramente voltarei a pontuar que os dados demográficos não demonstraram grandes diferenças entre os públicos, mas jovens sem dependentes e/ou solteiros são o público alvo a ser levado em consideração uma vez que são a maioria numérica. Como ainda há grande evasão de idosos, é sugerido olhar para este público com cautela caso haja um posicionamento mais voltado a captação de clientes deste mercado. No entanto, a realização de um trade off de público alvo e realização do rebranding da marca para focar no mercado jovem deve ser levado em consideração.\n",
    "\n",
    "Segundo, o serviço de internet por fibra ótica é no momento uma deficiência real nas ofertas feitas. Seja pelo alto preço, ou por ser um serviço com deficiência técnica. É extremamente recomendado realizar um estudo comparando as ofertas de outros players com a desta companhia para entender qual vantagem está sendo ofertada no mercado, assim como a realização de uma reforma técnica da fibra para garantir um melhor serviço ao cliente.\n",
    "\n",
    "Terceiro, compreendemos que existe uma importância chave na permanência do usuário de acordo com a utilização de serviços de segurança e suporte, principalmente a segurança online e suporte técnico. Como plano de ação, sugiro ofertar estes dois serviços, pelo menos, para todos os clientes como forma de fidelização e melhoria da experiência do usuário aos produtos da companhia. A compensação financeira ocorreria com o aumento do valor de vida do cliente.\n",
    "\n",
    "Quarto, meio de pagamentos digitais é sempre bem vindo, tanto para empresas quanto para clientes, pois além de diminuir os custos diretos das transações, é muito mais fácil de se utilizar trazendo melhor experiência ao cliente. No entanto os cheques eletrônicos, aparentam estar facilitando a tomada de decisão de deixar de utilizar os serviços contratados também. Isto em conjunto com contratos mensais tornam o cliente distante e facilita sua movimentação para experimentar outros players caso esteja insatisfeito com o que está recebendo.\n",
    "\n",
    "Devido a esta facilidade de movimentação, sugiro criar planos trimestrais e semestrais em substituição dos contratos mensais para incentivar que o cliente tente utilizar dos serviços de suporte técnico, por exemplo, para resolver seus problemas e realmente tenha chances de se encantar, assim como os clientes mais antigos da empresa. Além disto, identificar se está ocorrendo algum problema técnico com os cheques eletrônicos pode vir a ser útil - não queremos tirar a modalidade preferida dos usuários, mas sim compreender o porquê este meio de pagamento está sendo tão problemático.\n",
    "\n",
    "Finalmente, os valores cobrados pelo serviço de fibra ótica tornam o cliente sucetível a evasão, mas não é possível distinguir neste momento se o problema é a fibra, o valor, ou ambos. Um estudo aprofundado destes fatores deve ser realizado.\n",
    "\n",
    "Gostaria de comentar também sobre o uso de streaming de TV e filme. Como vimos, ter ou não ter algum destes serviços, não altera na probabilidade de evasão do cliente (35% para ambos os casos), logo, deixar de oferecer estes serviços para diminuir os gastos e ofertar a fibra ótica/DSL com valores mais acessíveis é uma oportunidade de redução de custos.\n",
    "\n",
    "De maneira similar, a presença de linhas telefônicas (única ou múltiplas) também não altera na probabilidade do cliente permanecer ou não, se mantendo próximo de 30% em todos os casos. Aqui existe outra oportunidade de redução de custos ao deixar de oferecer um serviço que não afeta diretamente na retenção do cliente (ou afeta muito pouco).\n",
    "\n",
    "No entanto, caso opte-se por manter os serviços telefônico e de streaming, sugiro a reestruturação do serviço oferecido a fim de torná-lo melhor e ser um diferencial estratégico para a companhia, não somente um serviço extra a ser ofertado porquê outros players também o fazem."
   ]
  }
 ],
 "metadata": {
  "kernelspec": {
   "display_name": "Python 3",
   "language": "python",
   "name": "python3"
  },
  "language_info": {
   "codemirror_mode": {
    "name": "ipython",
    "version": 3
   },
   "file_extension": ".py",
   "mimetype": "text/x-python",
   "name": "python",
   "nbconvert_exporter": "python",
   "pygments_lexer": "ipython3",
   "version": "3.8.8"
  }
 },
 "nbformat": 4,
 "nbformat_minor": 5
}
